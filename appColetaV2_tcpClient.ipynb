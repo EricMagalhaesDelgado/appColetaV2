{
 "cells": [
  {
   "cell_type": "code",
   "execution_count": null,
   "id": "b60b9f12",
   "metadata": {},
   "outputs": [],
   "source": [
    "import socket\n",
    "import json\n",
    "\n",
    "# Configurar as informações do servidor\n",
    "server_address = '127.0.0.1'  # Endereço IP do servidor\n",
    "server_port = 24101  # Porta do servidor\n",
    "\n",
    "# Criar o socket TCP\n",
    "client_socket = socket.socket(socket.AF_INET, socket.SOCK_STREAM)\n",
    "\n",
    "# Conectar ao servidor\n",
    "client_socket.connect((server_address, server_port))"
   ]
  },
  {
   "cell_type": "code",
   "execution_count": 19,
   "id": "29ab6601",
   "metadata": {},
   "outputs": [],
   "source": [
    "message = {\n",
    "    \"type\": \"type1\"\n",
    "}\n",
    "message_json = json.dumps(message) + '\\r\\n'"
   ]
  },
  {
   "cell_type": "code",
   "execution_count": 21,
   "id": "d429897f",
   "metadata": {},
   "outputs": [],
   "source": [
    "# message_json = '{\"type\": \"type1\"}\\r\\n'"
   ]
  },
  {
   "cell_type": "code",
   "execution_count": 20,
   "id": "d86a8825",
   "metadata": {},
   "outputs": [
    {
     "name": "stdout",
     "output_type": "stream",
     "text": [
      "{\"type\": \"type1\"}\r\n",
      "\n",
      "[{\"Port\":1,\"set\":\"{*zs,012,001}0\",\"get\":\"{zBs?012,001}[\"},{\"Port\":2,\"set\":\"{*zs,012,002}1\",\"get\":\"{zBs?012,002}\\\\\"},{\"Port\":3,\"set\":\"{*zs,012,003}2\",\"get\":\"{zBs?012,003}]\"},{\"Port\":4,\"set\":\"{*zs,012,004}3\",\"get\":\"{zBs?012,004}^\"},{\"Port\":5,\"set\":\"{*zs,012,005}4\",\"get\":\"{zBs?012,005}_\"},{\"Port\":6,\"set\":\"{*zs,012,006}5\",\"get\":\"{zBs?012,006}`\"},{\"Port\":7,\"set\":\"{*zs,012,007}6\",\"get\":\"{zBs?012,007}a\"},{\"Port\":8,\"set\":\"{*zs,012,008}7\",\"get\":\"{zBs?012,008}b\"},{\"Port\":9,\"set\":\"{*zs,012,009}8\",\"get\":\"{zBs?012,009}c\"},{\"Port\":10,\"set\":\"{*zs,012,010}0\",\"get\":\"{zBs?012,010}[\"},{\"Port\":11,\"set\":\"{*zs,012,011}1\",\"get\":\"{zBs?012,011}\\\\\"},{\"Port\":12,\"set\":\"{*zs,012,012}2\",\"get\":\"{zBs?012,012}]\"},{\"Port\":13,\"set\":\"{*zs,012,013}3\",\"get\":\"{zBs?012,013}^\"},{\"Port\":14,\"set\":\"{*zs,012,014}4\",\"get\":\"{zBs?012,014}_\"},{\"Port\":15,\"set\":\"{*zs,012,015}5\",\"get\":\"{zBs?012,015}`\"},{\"Port\":16,\"set\":\"{*zs,012,016}6\",\"get\":\"{zBs?012,016}a\"},{\"Port\":17,\"set\":\"{*zs,012,017}7\",\"get\":\"{zBs?012,017}b\"},{\"Port\":18,\"set\":\"{*zs,012,018}8\",\"get\":\"{zBs?012,018}c\"},{\"Port\":19,\"set\":\"{*zs,012,019}0\",\"get\":\"{zBs?012,019}[\"},{\"Port\":20,\"set\":\"{*zs,012,020}1\",\"get\":\"{zBs?012,020}\\\\\"},{\"Port\":21,\"set\":\"{*zs,012,021}2\",\"get\":\"{zBs?012,021}]\"},{\"Port\":22,\"set\":\"{*zs,012,022}3\",\"get\":\"{zBs?012,022}^\"},{\"Port\":23,\"set\":\"{*zs,012,023}4\",\"get\":\"{zBs?012,023}_\"},{\"Port\":24,\"set\":\"{*zs,012,024}5\",\"get\":\"{zBs?012,024}`\"},{\"Port\":25,\"set\":\"{*zs,012,025}6\",\"get\":\"{zBs?012,025}a\"},{\"Port\":26,\"set\":\"{*zs,012,026}7\",\"get\":\"{zBs?012,026}b\"},{\"Port\":27,\"set\":\"{*zs,012,027}8\",\"get\":\"{zBs?012,027}c\"},{\"Port\":28,\"set\":\"{*zs,012,028}0\",\"get\":\"{zBs?012,028}[\"},{\"Port\":29,\"set\":\"{*zs,012,029}1\",\"get\":\"{zBs?012,029}\\\\\"},{\"Port\":30,\"set\":\"{*zs,012,030}2\",\"get\":\"{zBs?012,030}]\"},{\"Port\":31,\"set\":\"{*zs,012,031}3\",\"get\":\"{zBs?012,031}^\"},{\"Port\":32,\"set\":\"{*zs,012,032}4\",\"get\":\"{zBs?012,032}_\"}]\r\n",
      "\n"
     ]
    }
   ],
   "source": [
    "# Enviar a mensagem para o servidor\n",
    "client_socket.sendall(message_json.encode())\n",
    "\n",
    "# Receber a resposta do servidor (buffer: 1MB)\n",
    "response = client_socket.recv(1000000)\n",
    "\n",
    "# Decodificar a resposta como uma string\n",
    "response_str = response.decode()\n",
    "\n",
    "print(message_json)\n",
    "print(response_str)"
   ]
  },
  {
   "cell_type": "code",
   "execution_count": 26,
   "id": "fe05d487",
   "metadata": {},
   "outputs": [
    {
     "name": "stdout",
     "output_type": "stream",
     "text": [
      "{'Port': 1, 'set': '{*zs,012,001}0', 'get': '{zBs?012,001}['}\n",
      "{'Port': 2, 'set': '{*zs,012,002}1', 'get': '{zBs?012,002}\\\\'}\n"
     ]
    }
   ],
   "source": [
    "data = json.loads(response_str)\n",
    "print(data[0])\n",
    "print(data[1])"
   ]
  },
  {
   "cell_type": "code",
   "execution_count": null,
   "id": "dece1847",
   "metadata": {},
   "outputs": [],
   "source": [
    "# Fechar a conexão com o servidor\n",
    "client_socket.close()"
   ]
  }
 ],
 "metadata": {
  "kernelspec": {
   "display_name": "Python 3 (ipykernel)",
   "language": "python",
   "name": "python3"
  },
  "language_info": {
   "codemirror_mode": {
    "name": "ipython",
    "version": 3
   },
   "file_extension": ".py",
   "mimetype": "text/x-python",
   "name": "python",
   "nbconvert_exporter": "python",
   "pygments_lexer": "ipython3",
   "version": "3.9.7"
  }
 },
 "nbformat": 4,
 "nbformat_minor": 5
}
